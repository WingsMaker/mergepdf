{
 "cells": [
  {
   "cell_type": "code",
   "execution_count": 1,
   "id": "35db16e1",
   "metadata": {},
   "outputs": [],
   "source": [
    "import PyPDF2"
   ]
  },
  {
   "cell_type": "code",
   "execution_count": 4,
   "id": "16bc98b3",
   "metadata": {},
   "outputs": [],
   "source": [
    "def PDFmerge(pdfs, output):\n",
    "    # creating pdf file merger object\n",
    "    pdfMerger = PyPDF2.PdfMerger()\n",
    "\n",
    "    # appending pdfs one by one\n",
    "    for pdf in pdfs:\n",
    "        pdfMerger.append(pdf)\n",
    "\n",
    "    # writing combined pdf to output pdf file\n",
    "    with open(output, 'wb') as f:\n",
    "        pdfMerger.write(f)\n"
   ]
  },
  {
   "cell_type": "code",
   "execution_count": 5,
   "id": "1a1104e4",
   "metadata": {},
   "outputs": [],
   "source": [
    "def main():\n",
    "    # pdf files to merge\n",
    "    pdfs = ['example1.pdf', 'example2.pdf']\n",
    "\n",
    "    # output pdf file name\n",
    "    output = 'example12.pdf'\n",
    "\n",
    "    # calling pdf merge function\n",
    "    PDFmerge(pdfs=pdfs, output=output)\n"
   ]
  },
  {
   "cell_type": "code",
   "execution_count": 6,
   "id": "a2d1506b",
   "metadata": {},
   "outputs": [
    {
     "name": "stdout",
     "output_type": "stream",
     "text": [
      "merge pdf task completed\n"
     ]
    }
   ],
   "source": [
    "if __name__ == \"__main__\":\n",
    "    # calling the main function\n",
    "    main()\n",
    "    print(\"merge pdf task completed\")\n",
    "\n"
   ]
  },
  {
   "cell_type": "code",
   "execution_count": null,
   "id": "8d37b549",
   "metadata": {},
   "outputs": [],
   "source": []
  }
 ],
 "metadata": {
  "kernelspec": {
   "display_name": "Python 3 (ipykernel)",
   "language": "python",
   "name": "python3"
  },
  "language_info": {
   "codemirror_mode": {
    "name": "ipython",
    "version": 3
   },
   "file_extension": ".py",
   "mimetype": "text/x-python",
   "name": "python",
   "nbconvert_exporter": "python",
   "pygments_lexer": "ipython3",
   "version": "3.11.5"
  }
 },
 "nbformat": 4,
 "nbformat_minor": 5
}
