{
 "cells": [
  {
   "cell_type": "markdown",
   "id": "24bea0ce",
   "metadata": {},
   "source": [
    "### Remove images"
   ]
  },
  {
   "cell_type": "code",
   "execution_count": null,
   "id": "23e0e395",
   "metadata": {},
   "outputs": [],
   "source": [
    "from PyPDF2 import PdfReader, PdfWriter\n",
    "\n",
    "reader = PdfReader(\"example.pdf\")\n",
    "writer = PdfWriter()\n",
    "\n",
    "for page in reader.pages:\n",
    "    writer.add_page(page)\n",
    "\n",
    "writer.remove_images()\n",
    "\n",
    "with open(\"example3.pdf\", \"wb\") as f:\n",
    "    writer.write(f)"
   ]
  },
  {
   "cell_type": "markdown",
   "id": "c88cab37",
   "metadata": {},
   "source": [
    "### Removing duplication"
   ]
  },
  {
   "cell_type": "code",
   "execution_count": null,
   "id": "3717af71",
   "metadata": {},
   "outputs": [],
   "source": [
    "from PyPDF2 import PdfReader, PdfWriter\n",
    "\n",
    "reader = PdfReader(\"example.pdf\")\n",
    "writer = PdfWriter()\n",
    "\n",
    "for page in reader.pages:\n",
    "    writer.add_page(page)\n",
    "\n",
    "writer.add_metadata(reader.metadata)\n",
    "\n",
    "with open(\"example4.pdf\", \"wb\") as fp:\n",
    "    writer.write(fp)"
   ]
  },
  {
   "cell_type": "markdown",
   "id": "e4e9243c",
   "metadata": {},
   "source": [
    "### Lossless Compression"
   ]
  },
  {
   "cell_type": "code",
   "execution_count": null,
   "id": "18fcee05",
   "metadata": {},
   "outputs": [],
   "source": [
    "from PyPDF2 import PdfReader, PdfWriter\n",
    "\n",
    "reader = PdfReader(\"example.pdf\")\n",
    "writer = PdfWriter()\n",
    "\n",
    "for page in reader.pages:\n",
    "    page.compress_content_streams()  # This is CPU intensive!\n",
    "    writer.add_page(page)\n",
    "\n",
    "with open(\"example5.pdf\", \"wb\") as f:\n",
    "    writer.write(f)"
   ]
  },
  {
   "cell_type": "markdown",
   "id": "a7231c8e",
   "metadata": {},
   "source": [
    "### Extract Images"
   ]
  },
  {
   "cell_type": "code",
   "execution_count": null,
   "id": "e253ad71",
   "metadata": {},
   "outputs": [],
   "source": [
    "from PyPDF2 import PdfReader\n",
    "\n",
    "reader = PdfReader(\"example.pdf\")\n",
    "\n",
    "page = reader.pages[0]\n",
    "count = 0\n",
    "\n",
    "for image_file_object in page.images:\n",
    "    with open(\"id\" + str(count) + \"-\" + image_file_object.name, \"wb\") as fp:\n",
    "        fp.write(image_file_object.data)\n",
    "        count += 1"
   ]
  },
  {
   "cell_type": "markdown",
   "id": "ee2a8e4a",
   "metadata": {},
   "source": [
    "### Rotate PDF"
   ]
  },
  {
   "cell_type": "code",
   "execution_count": null,
   "id": "7a0df306",
   "metadata": {},
   "outputs": [],
   "source": [
    "# importing the required modules\n",
    "import PyPDF2\n",
    "\n",
    "def PDFrotate(origFileName, newFileName, rotation):\n",
    "    # creating a pdf File object of original pdf\n",
    "    pdfFileObj = open(origFileName, 'rb')\n",
    "    # creating a pdf Reader object\n",
    "    pdfReader = PyPDF2.PdfReader(pdfFileObj)\n",
    "    # creating a pdf writer object for new pdf\n",
    "    pdfWriter = PyPDF2.PdfWriter()\n",
    "    # rotating each page\n",
    "    for page in range(len(pdfReader.pages)):\n",
    "        # creating rotated page object\n",
    "        pageObj = pdfReader.pages[page]\n",
    "        pageObj.rotate(rotation)\n",
    "        # adding rotated page object to pdf writer\n",
    "    pdfWriter.add_page(pageObj)\n",
    "    # new pdf file object\n",
    "    newFile = open(newFileName, 'wb')\n",
    "    # writing rotated pages to new file\n",
    "    pdfWriter.write(newFile)\n",
    "    # closing the original pdf file object\n",
    "    pdfFileObj.close()\n",
    "    # closing the new pdf file object\n",
    "    newFile.close()\n",
    "\n",
    "def main():\n",
    "    # original pdf file name\n",
    "    origFileName = 'example.pdf'\n",
    "    # new pdf file name\n",
    "    newFileName = 'rotated_example.pdf'\n",
    "    # rotation angle\n",
    "    rotation = 90\n",
    "    # calling the PDFrotate function\n",
    "    PDFrotate(origFileName, newFileName, rotation)\n",
    "\n",
    "if __name__ == \"__main__\":\n",
    "    # calling the main function\n",
    "    main()\n",
    "    print(\"rotated pdf by 90 degree\")"
   ]
  },
  {
   "cell_type": "markdown",
   "id": "5240adab",
   "metadata": {},
   "source": [
    "### Merge PDF"
   ]
  },
  {
   "cell_type": "code",
   "execution_count": null,
   "id": "9cad0818",
   "metadata": {},
   "outputs": [],
   "source": [
    "import PyPDF2\n",
    "\n",
    "def PDFmerge(pdfs, output):\n",
    "    # creating pdf file merger object\n",
    "    pdfMerger = PyPDF2.PdfMerger()\n",
    "\n",
    "    # appending pdfs one by one\n",
    "    for pdf in pdfs:\n",
    "        pdfMerger.append(pdf)\n",
    "\n",
    "    # writing combined pdf to output pdf file\n",
    "    with open(output, 'wb') as f:\n",
    "        pdfMerger.write(f)\n",
    "\n",
    "def main():\n",
    "    # pdf files to merge\n",
    "    pdfs = ['example1.pdf', 'example2.pdf']\n",
    "\n",
    "    # output pdf file name\n",
    "    output = 'example12.pdf'\n",
    "\n",
    "    # calling pdf merge function\n",
    "    PDFmerge(pdfs=pdfs, output=output)\n",
    "\n",
    "if __name__ == \"__main__\":\n",
    "    # calling the main function\n",
    "    main()\n",
    "    print(\"merge pdf task completed\")\n"
   ]
  },
  {
   "cell_type": "markdown",
   "id": "4a5921ab",
   "metadata": {},
   "source": [
    "### Read PDF"
   ]
  },
  {
   "cell_type": "code",
   "execution_count": null,
   "id": "9ef682a9",
   "metadata": {},
   "outputs": [],
   "source": [
    "import PyPDF2\n",
    "\n",
    "pdfFileObj = open('example.pdf', 'rb')\n",
    "\n",
    "# creating a pdf reader object\n",
    "pdfReader = PyPDF2.PdfReader(pdfFileObj)\n",
    "print(len(pdfReader.pages))\n",
    "\n",
    "pageObj = pdfReader.pages[0]\n",
    "print(pageObj.extract_text())\n",
    "\n",
    "pdfFileObj.close()"
   ]
  },
  {
   "cell_type": "markdown",
   "id": "45a062c6",
   "metadata": {},
   "source": [
    "### Encrypt PDF"
   ]
  },
  {
   "cell_type": "code",
   "execution_count": null,
   "id": "385db007",
   "metadata": {},
   "outputs": [],
   "source": [
    "from PyPDF2 import PdfReader, PdfWriter\n",
    "password = \"daio_2023\"\n",
    "\n",
    "reader = PdfReader(\"example.pdf\")\n",
    "writer = PdfWriter()\n",
    "\n",
    "# Add all pages to the writer\n",
    "for page in reader.pages:\n",
    "    writer.add_page(page)\n",
    "\n",
    "# Add a password to the new PDF\n",
    "writer.encrypt(password)\n",
    "\n",
    "# Save the new PDF to a file\n",
    "with open(\"encrypted-example.pdf\", \"wb\") as f:\n",
    "    writer.write(f)"
   ]
  },
  {
   "cell_type": "markdown",
   "id": "44002e71",
   "metadata": {},
   "source": [
    "### Decrypt PDF"
   ]
  },
  {
   "cell_type": "code",
   "execution_count": null,
   "id": "6bd7c8ed",
   "metadata": {},
   "outputs": [],
   "source": [
    "from PyPDF2 import PdfReader, PdfWriter\n",
    "password = \"daio_2023\"\n",
    "\n",
    "reader = PdfReader(\"encrypted-example.pdf\")\n",
    "writer = PdfWriter()\n",
    "\n",
    "if reader.is_encrypted:\n",
    "    reader.decrypt(password)\n",
    "\n",
    "# Add all pages to the writer\n",
    "for page in reader.pages:\n",
    "    writer.add_page(page)\n",
    "\n",
    "# Save the new PDF to a file\n",
    "with open(\"decrypted-example.pdf\", \"wb\") as f:\n",
    "    writer.write(f)"
   ]
  },
  {
   "cell_type": "markdown",
   "id": "d51b5b13",
   "metadata": {},
   "source": [
    "### Reading PDFs directly from Google cloud services"
   ]
  },
  {
   "cell_type": "code",
   "execution_count": null,
   "id": "3b34ba34",
   "metadata": {},
   "outputs": [],
   "source": [
    "import gcsfs\n",
    "from pypdf import PdfReader\n",
    "\n",
    "gcs_file_system = gcsfs.GCSFileSystem(project=\"PROJECT_ID\")\n",
    "gcs_pdf_path = \"gs://bucket_name/object.pdf\"\n",
    "\n",
    "f_object = gcs_file_system.open(gcs_pdf_path, \"rb\")\n",
    "    \n",
    "# Open our PDF file with the PdfReader\n",
    "reader = PdfReader(f_object)\n",
    "  \n",
    "# Get number of pages\n",
    "num = len(reader.pages)\n",
    "\n",
    "f_object.close()"
   ]
  },
  {
   "cell_type": "markdown",
   "id": "33daa7a5",
   "metadata": {},
   "source": [
    "### Reading PDFs directly from AWS cloud services"
   ]
  },
  {
   "cell_type": "code",
   "execution_count": null,
   "id": "47c3ea60",
   "metadata": {},
   "outputs": [],
   "source": [
    "from io import BytesIO\n",
    "\n",
    "import boto3\n",
    "from PyPDF2 import PdfReader\n",
    "\n",
    "s3 = boto3.client(\"s3\")\n",
    "obj = s3.get_object(Body=csv_buffer.getvalue(), Bucket=\"my-bucket\", Key=\"my/doc.pdf\")\n",
    "reader = PdfReader(BytesIO(obj[\"Body\"].read()))"
   ]
  },
  {
   "cell_type": "markdown",
   "id": "69cc084f",
   "metadata": {},
   "source": [
    "### Writing a PDF directly to AWS S3"
   ]
  },
  {
   "cell_type": "code",
   "execution_count": null,
   "id": "5db96a2e",
   "metadata": {},
   "outputs": [],
   "source": [
    "from io import BytesIO\n",
    "\n",
    "import boto3\n",
    "from PyPDF2 import PdfReader, PdfWriter\n",
    "\n",
    "\n",
    "reader = PdfReader(BytesIO(raw_bytes_data))\n",
    "writer = PdfWriter()\n",
    "\n",
    "# Add all pages to the writer\n",
    "for page in reader.pages:\n",
    "    writer.add_page(page)\n",
    "\n",
    "# Add a password to the new PDF\n",
    "writer.encrypt(\"my-secret-password\")\n",
    "\n",
    "# Save the new PDF to a file\n",
    "with BytesIO() as bytes_stream:\n",
    "    writer.write(bytes_stream)\n",
    "    bytes_stream.seek(0)\n",
    "    s3 = boto3.client(\"s3\")\n",
    "    s3.write_get_object_response(\n",
    "        Body=bytes_stream, RequestRoute=request_route, RequestToken=request_token\n",
    "    )"
   ]
  },
  {
   "cell_type": "markdown",
   "id": "1dc89030",
   "metadata": {},
   "source": [
    "### Streaming Data with PyPDF2"
   ]
  },
  {
   "cell_type": "code",
   "execution_count": null,
   "id": "1b430050",
   "metadata": {},
   "outputs": [],
   "source": [
    "from io import BytesIO\n",
    "\n",
    "# Prepare example\n",
    "with open(\"example.pdf\", \"rb\") as fh:\n",
    "    bytes_stream = BytesIO(fh.read())\n",
    "\n",
    "# Read from bytes_stream\n",
    "reader = PdfReader(bytes_stream)\n",
    "\n",
    "# Write to bytes_stream\n",
    "writer = PdfWriter()\n",
    "with BytesIO() as bytes_stream:\n",
    "    writer.write(bytes_stream)"
   ]
  },
  {
   "cell_type": "markdown",
   "id": "52758704",
   "metadata": {},
   "source": [
    "### Interactions with PDF Forms"
   ]
  },
  {
   "cell_type": "markdown",
   "id": "19337d83",
   "metadata": {},
   "source": [
    "#### Reading form fields"
   ]
  },
  {
   "cell_type": "code",
   "execution_count": null,
   "id": "73114c56",
   "metadata": {},
   "outputs": [],
   "source": [
    "from PyPDF2 import PdfReader\n",
    "\n",
    "reader = PdfReader(\"form.pdf\")\n",
    "fields = reader.get_form_text_fields()\n",
    "fields == {\"key\": \"value\", \"key2\": \"value2\"}"
   ]
  },
  {
   "cell_type": "markdown",
   "id": "2cd7564b",
   "metadata": {},
   "source": [
    "#### Filling out forms"
   ]
  },
  {
   "cell_type": "code",
   "execution_count": null,
   "id": "fbdbb01d",
   "metadata": {},
   "outputs": [],
   "source": [
    "from PyPDF2 import PdfReader, PdfWriter\n",
    "\n",
    "reader = PdfReader(\"form.pdf\")\n",
    "writer = PdfWriter()\n",
    "\n",
    "page = reader.pages[0]\n",
    "\n",
    "writer.add_page(page)\n",
    "\n",
    "writer.update_page_form_field_values(\n",
    "    writer.pages[0], {\"fieldname\": \"some filled in text\"}\n",
    ")\n",
    "\n",
    "# write \"output\" to PyPDF2-output.pdf\n",
    "with open(\"filled-out.pdf\", \"wb\") as output_stream:\n",
    "    writer.write(output_stream)"
   ]
  },
  {
   "cell_type": "markdown",
   "id": "d3f0178f",
   "metadata": {},
   "source": [
    "### Adding PDF Annotations"
   ]
  },
  {
   "cell_type": "markdown",
   "id": "4d19828c",
   "metadata": {},
   "source": [
    "#### Attachments"
   ]
  },
  {
   "cell_type": "code",
   "execution_count": null,
   "id": "835bb237",
   "metadata": {},
   "outputs": [],
   "source": [
    "from PyPDF2 import PdfWriter\n",
    "\n",
    "writer = PdfWriter()\n",
    "writer.add_blank_page(width=200, height=200)\n",
    "\n",
    "data = b\"any bytes - typically read from a file\"\n",
    "writer.add_attachment(\"smile.png\", data)\n",
    "\n",
    "with open(\"output.pdf\", \"wb\") as output_stream:\n",
    "    writer.write(output_stream)"
   ]
  },
  {
   "cell_type": "markdown",
   "id": "30d7baab",
   "metadata": {},
   "source": [
    "#### Free Text"
   ]
  },
  {
   "cell_type": "code",
   "execution_count": null,
   "id": "178dd9ae",
   "metadata": {},
   "outputs": [],
   "source": [
    "from PyPDF2 import PdfReader, PdfWriter\n",
    "from PyPDF2.generic import AnnotationBuilder\n",
    "\n",
    "# Fill the writer with the pages you want\n",
    "pdf_path = os.path.join(RESOURCE_ROOT, \"crazyones.pdf\")\n",
    "reader = PdfReader(pdf_path)\n",
    "page = reader.pages[0]\n",
    "writer = PdfWriter()\n",
    "writer.add_page(page)\n",
    "\n",
    "# Create the annotation and add it\n",
    "annotation = AnnotationBuilder.free_text(\n",
    "    \"Hello World\\nThis is the second line!\",\n",
    "    rect=(50, 550, 200, 650),\n",
    "    font=\"Arial\",\n",
    "    bold=True,\n",
    "    italic=True,\n",
    "    font_size=\"20pt\",\n",
    "    font_color=\"00ff00\",\n",
    "    border_color=\"0000ff\",\n",
    "    background_color=\"cdcdcd\",\n",
    ")\n",
    "writer.add_annotation(page_number=0, annotation=annotation)\n",
    "\n",
    "# Write the annotated file to disk\n",
    "with open(\"annotated-pdf.pdf\", \"wb\") as fp:\n",
    "    writer.write(fp)"
   ]
  },
  {
   "cell_type": "markdown",
   "id": "65cf2527",
   "metadata": {},
   "source": [
    "#### Line"
   ]
  },
  {
   "cell_type": "code",
   "execution_count": null,
   "id": "59b5707a",
   "metadata": {},
   "outputs": [],
   "source": [
    "pdf_path = os.path.join(RESOURCE_ROOT, \"crazyones.pdf\")\n",
    "reader = PdfReader(pdf_path)\n",
    "page = reader.pages[0]\n",
    "writer = PdfWriter()\n",
    "writer.add_page(page)\n",
    "\n",
    "# Add the line\n",
    "annotation = AnnotationBuilder.line(\n",
    "    text=\"Hello World\\nLine2\",\n",
    "    rect=(50, 550, 200, 650),\n",
    "    p1=(50, 550),\n",
    "    p2=(200, 650),\n",
    ")\n",
    "writer.add_annotation(page_number=0, annotation=annotation)\n",
    "\n",
    "# Write the annotated file to disk\n",
    "with open(\"annotated-pdf.pdf\", \"wb\") as fp:\n",
    "    writer.write(fp)"
   ]
  },
  {
   "cell_type": "markdown",
   "id": "e1c85b4e",
   "metadata": {},
   "source": [
    "#### Rectangle"
   ]
  },
  {
   "cell_type": "code",
   "execution_count": null,
   "id": "05319e89",
   "metadata": {},
   "outputs": [],
   "source": [
    "pdf_path = os.path.join(RESOURCE_ROOT, \"crazyones.pdf\")\n",
    "reader = PdfReader(pdf_path)\n",
    "page = reader.pages[0]\n",
    "writer = PdfWriter()\n",
    "writer.add_page(page)\n",
    "\n",
    "# Add the line\n",
    "annotation = AnnotationBuilder.rectangle(\n",
    "    rect=(50, 550, 200, 650),\n",
    ")\n",
    "writer.add_annotation(page_number=0, annotation=annotation)\n",
    "\n",
    "# Write the annotated file to disk\n",
    "with open(\"annotated-pdf.pdf\", \"wb\") as fp:\n",
    "    writer.write(fp)"
   ]
  },
  {
   "cell_type": "markdown",
   "id": "ad5e78cb",
   "metadata": {},
   "source": [
    "#### Link"
   ]
  },
  {
   "cell_type": "code",
   "execution_count": null,
   "id": "79101482",
   "metadata": {},
   "outputs": [],
   "source": [
    "pdf_path = os.path.join(RESOURCE_ROOT, \"crazyones.pdf\")\n",
    "reader = PdfReader(pdf_path)\n",
    "page = reader.pages[0]\n",
    "writer = PdfWriter()\n",
    "writer.add_page(page)\n",
    "\n",
    "# Add the line\n",
    "annotation = AnnotationBuilder.link(\n",
    "    rect=(50, 550, 200, 650),\n",
    "    url=\"https://martin-thoma.com/\",\n",
    ")\n",
    "writer.add_annotation(page_number=0, annotation=annotation)\n",
    "\n",
    "# Write the annotated file to disk\n",
    "with open(\"annotated-pdf.pdf\", \"wb\") as fp:\n",
    "    writer.write(fp)"
   ]
  },
  {
   "cell_type": "markdown",
   "id": "04a116c4",
   "metadata": {},
   "source": [
    "#### Link #2"
   ]
  },
  {
   "cell_type": "code",
   "execution_count": null,
   "id": "f1066d6c",
   "metadata": {},
   "outputs": [],
   "source": [
    "pdf_path = os.path.join(RESOURCE_ROOT, \"crazyones.pdf\")\n",
    "reader = PdfReader(pdf_path)\n",
    "page = reader.pages[0]\n",
    "writer = PdfWriter()\n",
    "writer.add_page(page)\n",
    "\n",
    "# Add the line\n",
    "annotation = AnnotationBuilder.link(\n",
    "    rect=(50, 550, 200, 650), target_page_index=3, fit=\"/FitH\", fit_args=(123,)\n",
    ")\n",
    "writer.add_annotation(page_number=0, annotation=annotation)\n",
    "\n",
    "# Write the annotated file to disk\n",
    "with open(\"annotated-pdf.pdf\", \"wb\") as fp:\n",
    "    writer.write(fp)"
   ]
  },
  {
   "cell_type": "markdown",
   "id": "0bd9fb77",
   "metadata": {},
   "source": [
    "### Reading PDF Annotations"
   ]
  },
  {
   "cell_type": "markdown",
   "id": "5260aaee",
   "metadata": {},
   "source": [
    "#### General Annotations "
   ]
  },
  {
   "cell_type": "code",
   "execution_count": null,
   "id": "bea2dc00",
   "metadata": {},
   "outputs": [],
   "source": [
    "from PyPDF2 import PdfReader\n",
    "\n",
    "reader = PdfReader(\"commented.pdf\")\n",
    "\n",
    "for page in reader.pages:\n",
    "    if \"/Annots\" in page:\n",
    "        for annot in page[\"/Annots\"]:\n",
    "            obj = annot.get_object()\n",
    "            annotation = {\"subtype\": obj[\"/Subtype\"], \"location\": obj[\"/Rect\"]}\n",
    "            print(annotation)"
   ]
  },
  {
   "cell_type": "markdown",
   "id": "27cb0c2a",
   "metadata": {},
   "source": [
    "#### Text"
   ]
  },
  {
   "cell_type": "code",
   "execution_count": null,
   "id": "ccec1df9",
   "metadata": {},
   "outputs": [],
   "source": [
    "from PyPDF2 import PdfReader\n",
    "\n",
    "reader = PdfReader(\"example.pdf\")\n",
    "\n",
    "for page in reader.pages:\n",
    "    if \"/Annots\" in page:\n",
    "        for annot in page[\"/Annots\"]:\n",
    "            subtype = annot.get_object()[\"/Subtype\"]\n",
    "            if subtype == \"/Text\":\n",
    "                print(annot.get_object()[\"/Contents\"])"
   ]
  },
  {
   "cell_type": "markdown",
   "id": "7b33f658",
   "metadata": {},
   "source": [
    "#### Highlights"
   ]
  },
  {
   "cell_type": "code",
   "execution_count": null,
   "id": "566090fe",
   "metadata": {},
   "outputs": [],
   "source": [
    "from PyPDF2 import PdfReader\n",
    "\n",
    "reader = PdfReader(\"commented.pdf\")\n",
    "\n",
    "for page in reader.pages:\n",
    "    if \"/Annots\" in page:\n",
    "        for annot in page[\"/Annots\"]:\n",
    "            subtype = annot.get_object()[\"/Subtype\"]\n",
    "            if subtype == \"/Highlight\":\n",
    "                coords = annot.get_object()[\"/QuadPoints\"]\n",
    "                x1, y1, x2, y2, x3, y3, x4, y4 = coords"
   ]
  },
  {
   "cell_type": "markdown",
   "id": "c24c48d2",
   "metadata": {},
   "source": [
    "#### Attachments"
   ]
  },
  {
   "cell_type": "code",
   "execution_count": null,
   "id": "7b3c05f1",
   "metadata": {},
   "outputs": [],
   "source": [
    "from PyPDF2 import PdfReader\n",
    "\n",
    "reader = PdfReader(\"example.pdf\")\n",
    "\n",
    "attachments = {}\n",
    "for page in reader.pages:\n",
    "    if \"/Annots\" in page:\n",
    "        for annotation in page[\"/Annots\"]:\n",
    "            subtype = annot.get_object()[\"/Subtype\"]\n",
    "            if subtype == \"/FileAttachment\":\n",
    "                fileobj = annotobj[\"/FS\"]\n",
    "                attachments[fileobj[\"/F\"]] = fileobj[\"/EF\"][\"/F\"].get_data()"
   ]
  },
  {
   "cell_type": "markdown",
   "id": "cc612ff6",
   "metadata": {},
   "source": [
    "### Adding a Stamp/Watermark to a PDF"
   ]
  },
  {
   "cell_type": "markdown",
   "id": "99f50aec",
   "metadata": {},
   "source": [
    "#### Stamp (Overlay)"
   ]
  },
  {
   "cell_type": "code",
   "execution_count": null,
   "id": "61828eba",
   "metadata": {},
   "outputs": [],
   "source": [
    "from pathlib import Path\n",
    "from typing import Union, Literal, List\n",
    "\n",
    "from PyPDF2 import PdfWriter, PdfReader\n",
    "\n",
    "\n",
    "def stamp(\n",
    "    content_pdf: Path,\n",
    "    stamp_pdf: Path,\n",
    "    pdf_result: Path,\n",
    "    page_indices: Union[Literal[\"ALL\"], List[int]] = \"ALL\",\n",
    "):\n",
    "    reader = PdfReader(stamp_pdf)\n",
    "    image_page = reader.pages[0]\n",
    "\n",
    "    writer = PdfWriter()\n",
    "\n",
    "    reader = PdfReader(content_pdf)\n",
    "    if page_indices == \"ALL\":\n",
    "        page_indices = list(range(0, len(reader.pages)))\n",
    "    for index in page_indices:\n",
    "        content_page = reader.pages[index]\n",
    "        mediabox = content_page.mediabox\n",
    "        content_page.merge_page(image_page)\n",
    "        content_page.mediabox = mediabox\n",
    "        writer.add_page(content_page)\n",
    "\n",
    "    with open(pdf_result, \"wb\") as fp:\n",
    "        writer.write(fp)\n"
   ]
  },
  {
   "cell_type": "markdown",
   "id": "0ffdead7",
   "metadata": {},
   "source": [
    "#### Watermark (Underlay)"
   ]
  },
  {
   "cell_type": "code",
   "execution_count": null,
   "id": "86e7474c",
   "metadata": {},
   "outputs": [],
   "source": [
    "from pathlib import Path\n",
    "from typing import Union, Literal, List\n",
    "\n",
    "from PyPDF2 import PdfWriter, PdfReader\n",
    "\n",
    "\n",
    "def watermark(\n",
    "    content_pdf: Path,\n",
    "    stamp_pdf: Path,\n",
    "    pdf_result: Path,\n",
    "    page_indices: Union[Literal[\"ALL\"], List[int]] = \"ALL\",\n",
    "):\n",
    "    reader = PdfReader(content_pdf)\n",
    "    if page_indices == \"ALL\":\n",
    "        page_indices = list(range(0, len(reader.pages)))\n",
    "\n",
    "    writer = PdfWriter()\n",
    "    for index in page_indices:\n",
    "        content_page = reader.pages[index]\n",
    "        mediabox = content_page.mediabox\n",
    "\n",
    "        # You need to load it again, as the last time it was overwritten\n",
    "        reader_stamp = PdfReader(stamp_pdf)\n",
    "        image_page = reader_stamp.pages[0]\n",
    "\n",
    "        image_page.merge_page(content_page)\n",
    "        image_page.mediabox = mediabox\n",
    "        writer.add_page(image_page)\n",
    "\n",
    "    with open(pdf_result, \"wb\") as fp:\n",
    "        writer.write(fp)\n"
   ]
  },
  {
   "cell_type": "markdown",
   "id": "1741421c",
   "metadata": {},
   "source": [
    "### Cropping and Transforming PDFs"
   ]
  },
  {
   "cell_type": "code",
   "execution_count": null,
   "id": "c216e299",
   "metadata": {},
   "outputs": [],
   "source": [
    "from PyPDF2 import PdfWriter, PdfReader\n",
    "\n",
    "reader = PdfReader(\"example.pdf\")\n",
    "writer = PdfWriter()\n",
    "\n",
    "# add page 1 from reader to output document, unchanged:\n",
    "writer.add_page(reader.pages[0])\n",
    "\n",
    "# add page 2 from reader, but rotated clockwise 90 degrees:\n",
    "writer.add_page(reader.pages[1].rotate(90))\n",
    "\n",
    "# add page 3 from reader, but crop it to half size:\n",
    "page3 = reader.pages[2]\n",
    "page3.mediabox.upper_right = (\n",
    "    page3.mediabox.right / 2,\n",
    "    page3.mediabox.top / 2,\n",
    ")\n",
    "writer.add_page(page3)\n",
    "\n",
    "# add some Javascript to launch the print window on opening this PDF.\n",
    "# the password dialog may prevent the print dialog from being shown,\n",
    "# comment the the encription lines, if that's the case, to try this out:\n",
    "writer.add_js(\"this.print({bUI:true,bSilent:false,bShrinkToFit:true});\")\n",
    "\n",
    "# write to document-output.pdf\n",
    "with open(\"PyPDF2-output.pdf\", \"wb\") as fp:\n",
    "    writer.write(fp)"
   ]
  },
  {
   "cell_type": "markdown",
   "id": "0b0c6927",
   "metadata": {},
   "source": [
    "#### Page rotation"
   ]
  },
  {
   "cell_type": "code",
   "execution_count": null,
   "id": "45b86cbf",
   "metadata": {},
   "outputs": [],
   "source": [
    "from PyPDF2 import PdfWriter, PdfReader\n",
    "\n",
    "reader = PdfReader(\"input.pdf\")\n",
    "writer = PdfWriter()\n",
    "\n",
    "\n",
    "writer.add_page(reader.pages[0])\n",
    "writer.pages[0].rotate(90)\n",
    "\n",
    "with open(\"output.pdf\", \"wb\") as fp:\n",
    "    writer.write(fp)"
   ]
  },
  {
   "cell_type": "markdown",
   "id": "0f1f4995",
   "metadata": {},
   "source": [
    "#### Plain Merge"
   ]
  },
  {
   "cell_type": "code",
   "execution_count": null,
   "id": "0be9db78",
   "metadata": {},
   "outputs": [],
   "source": [
    "from PyPDF2 import PdfReader, PdfWriter, Transformation\n",
    "\n",
    "# Get the data\n",
    "reader_base = PdfReader(\"labeled-edges-center-image.pdf\")\n",
    "page_base = reader_base.pages[0]\n",
    "\n",
    "reader = PdfReader(\"box.pdf\")\n",
    "page_box = reader.pages[0]\n",
    "\n",
    "page_base.merge_page(page_box)\n",
    "\n",
    "# Write the result back\n",
    "writer = PdfWriter()\n",
    "writer.add_page(page_base)\n",
    "with open(\"merged-foo.pdf\", \"wb\") as fp:\n",
    "    writer.write(fp)"
   ]
  },
  {
   "cell_type": "markdown",
   "id": "5fa4cade",
   "metadata": {},
   "source": [
    "#### Merge with Rotation"
   ]
  },
  {
   "cell_type": "code",
   "execution_count": null,
   "id": "edb800f8",
   "metadata": {},
   "outputs": [],
   "source": [
    "from PyPDF2 import PdfReader, PdfWriter, Transformation\n",
    "\n",
    "# Get the data\n",
    "reader_base = PdfReader(\"labeled-edges-center-image.pdf\")\n",
    "page_base = reader_base.pages[0]\n",
    "\n",
    "reader = PdfReader(\"box.pdf\")\n",
    "page_box = reader.pages[0]\n",
    "\n",
    "# Apply the transformation\n",
    "transformation = Transformation().rotate(45)\n",
    "page_box.add_transformation(transformation)\n",
    "page_base.merge_page(page_box)\n",
    "\n",
    "# Write the result back\n",
    "writer = PdfWriter()\n",
    "writer.add_page(page_base)\n",
    "with open(\"merged-foo.pdf\", \"wb\") as fp:\n",
    "    writer.write(fp)"
   ]
  },
  {
   "cell_type": "markdown",
   "id": "1decc171",
   "metadata": {},
   "source": [
    "#### Scaling a Page (the Canvas)"
   ]
  },
  {
   "cell_type": "code",
   "execution_count": null,
   "id": "478a2553",
   "metadata": {},
   "outputs": [],
   "source": [
    "from PyPDF2 import PdfReader, PdfWriter\n",
    "\n",
    "# Read the input\n",
    "reader = PdfReader(\"resources/side-by-side-subfig.pdf\")\n",
    "page = reader.pages[0]\n",
    "\n",
    "# Scale\n",
    "page.scale_by(0.5)\n",
    "\n",
    "# Write the result to a file\n",
    "writer = PdfWriter()\n",
    "writer.add_page(page)\n",
    "writer.write(\"out.pdf\")"
   ]
  },
  {
   "cell_type": "raw",
   "id": "1d6821a9",
   "metadata": {},
   "source": [
    "from PyPDF2.generic import RectangleObject\n",
    "\n",
    "mb = page.mediabox\n",
    "\n",
    "page.mediabox = RectangleObject((mb.left, mb.bottom, mb.right, mb.top))\n",
    "page.cropbox = RectangleObject((mb.left, mb.bottom, mb.right, mb.top))\n",
    "page.trimbox = RectangleObject((mb.left, mb.bottom, mb.right, mb.top))\n",
    "page.bleedbox = RectangleObject((mb.left, mb.bottom, mb.right, mb.top))\n",
    "page.artbox = RectangleObject((mb.left, mb.bottom, mb.right, mb.top))"
   ]
  },
  {
   "cell_type": "markdown",
   "id": "b19641e0",
   "metadata": {},
   "source": [
    "#### Scaling the content"
   ]
  },
  {
   "cell_type": "code",
   "execution_count": null,
   "id": "8d4e40c5",
   "metadata": {},
   "outputs": [],
   "source": [
    "from PyPDF2 import PdfReader, PdfWriter, Transformation\n",
    "\n",
    "# Read the input\n",
    "reader = PdfReader(\"resources/side-by-side-subfig.pdf\")\n",
    "page = reader.pages[0]\n",
    "\n",
    "# Scale\n",
    "op = Transformation().scale(sx=0.7, sy=0.7)\n",
    "page.add_transformation(op)\n",
    "\n",
    "# Write the result to a file\n",
    "writer = PdfWriter()\n",
    "writer.add_page(page)\n",
    "writer.write(\"out-pg-transform.pdf\")"
   ]
  },
  {
   "cell_type": "markdown",
   "id": "b8fc1207",
   "metadata": {},
   "source": [
    "#### Merging PDF files with more options "
   ]
  },
  {
   "cell_type": "code",
   "execution_count": null,
   "id": "69efe761",
   "metadata": {},
   "outputs": [],
   "source": [
    "from PyPDF2 import PdfWriter\n",
    "\n",
    "merger = PdfWriter()\n",
    "\n",
    "input1 = open(\"document1.pdf\", \"rb\")\n",
    "input2 = open(\"document2.pdf\", \"rb\")\n",
    "input3 = open(\"document3.pdf\", \"rb\")\n",
    "\n",
    "# add the first 3 pages of input1 document to output\n",
    "merger.append(fileobj=input1, pages=(0, 3))\n",
    "\n",
    "# insert the first page of input2 into the output beginning after the second page\n",
    "merger.merge(position=2, fileobj=input2, pages=(0, 1))\n",
    "\n",
    "# append entire input3 document to the end of the output document\n",
    "merger.append(input3)\n",
    "\n",
    "# Write to an output PDF document\n",
    "output = open(\"document-output.pdf\", \"wb\")\n",
    "merger.write(output)\n",
    "\n",
    "# Close File Descriptors\n",
    "merger.close()\n",
    "output.close()"
   ]
  },
  {
   "cell_type": "markdown",
   "id": "eb3d6540",
   "metadata": {},
   "source": [
    "### Extract Text from a PDF"
   ]
  },
  {
   "cell_type": "code",
   "execution_count": null,
   "id": "7e240912",
   "metadata": {},
   "outputs": [],
   "source": [
    "from PyPDF2 import PdfReader\n",
    "\n",
    "reader = PdfReader(\"example.pdf\")\n",
    "page = reader.pages[0]\n",
    "print(page.extract_text())"
   ]
  },
  {
   "cell_type": "raw",
   "id": "c5ad8612",
   "metadata": {},
   "source": [
    "# extract only text oriented up\n",
    "print(page.extract_text(0))\n",
    "\n",
    "# extract text oriented up and turned left\n",
    "print(page.extract_text((0, 90)))"
   ]
  },
  {
   "cell_type": "markdown",
   "id": "8661cf54",
   "metadata": {},
   "source": [
    "#### Ignore header and footer"
   ]
  },
  {
   "cell_type": "code",
   "execution_count": null,
   "id": "08db2fa9",
   "metadata": {},
   "outputs": [],
   "source": [
    "from PyPDF2 import PdfReader\n",
    "\n",
    "reader = PdfReader(\"GeoBase_NHNC1_Data_Model_UML_EN.pdf\")\n",
    "page = reader.pages[3]\n",
    "\n",
    "parts = []\n",
    "\n",
    "\n",
    "def visitor_body(text, cm, tm, fontDict, fontSize):\n",
    "    y = tm[5]\n",
    "    if y > 50 and y < 720:\n",
    "        parts.append(text)\n",
    "\n",
    "\n",
    "page.extract_text(visitor_text=visitor_body)\n",
    "text_body = \"\".join(parts)\n",
    "\n",
    "print(text_body)"
   ]
  },
  {
   "cell_type": "markdown",
   "id": "360756b2",
   "metadata": {},
   "source": [
    "#### Extract rectangles and texts into a SVG-file"
   ]
  },
  {
   "cell_type": "code",
   "execution_count": null,
   "id": "a808bb22",
   "metadata": {},
   "outputs": [],
   "source": [
    "from PyPDF2 import PdfReader\n",
    "import svgwrite\n",
    "\n",
    "reader = PdfReader(\"GeoBase_NHNC1_Data_Model_UML_EN.pdf\")\n",
    "page = reader.pages[2]\n",
    "\n",
    "dwg = svgwrite.Drawing(\"GeoBase_test.svg\", profile=\"tiny\")\n",
    "\n",
    "\n",
    "def visitor_svg_rect(op, args, cm, tm):\n",
    "    if op == b\"re\":\n",
    "        (x, y, w, h) = (args[i].as_numeric() for i in range(4))\n",
    "        dwg.add(dwg.rect((x, y), (w, h), stroke=\"red\", fill_opacity=0.05))\n",
    "\n",
    "\n",
    "def visitor_svg_text(text, cm, tm, fontDict, fontSize):\n",
    "    (x, y) = (tm[4], tm[5])\n",
    "    dwg.add(dwg.text(text, insert=(x, y), fill=\"blue\"))\n",
    "\n",
    "\n",
    "page.extract_text(\n",
    "    visitor_operand_before=visitor_svg_rect, visitor_text=visitor_svg_text\n",
    ")\n",
    "dwg.save()"
   ]
  },
  {
   "cell_type": "markdown",
   "id": "4a89b6de",
   "metadata": {},
   "source": [
    "### Reading metadata"
   ]
  },
  {
   "cell_type": "code",
   "execution_count": null,
   "id": "eb41ccd2",
   "metadata": {},
   "outputs": [],
   "source": [
    "from PyPDF2 import PdfReader\n",
    "\n",
    "reader = PdfReader(\"example.pdf\")\n",
    "\n",
    "meta = reader.metadata\n",
    "\n",
    "print(len(reader.pages))\n",
    "\n",
    "# All of the following could be None!\n",
    "print(meta.author)\n",
    "print(meta.creator)\n",
    "print(meta.producer)\n",
    "print(meta.subject)\n",
    "print(meta.title)"
   ]
  },
  {
   "cell_type": "markdown",
   "id": "e81a9fa1",
   "metadata": {},
   "source": [
    "### Writing metadata"
   ]
  },
  {
   "cell_type": "code",
   "execution_count": null,
   "id": "c2bb25ef",
   "metadata": {},
   "outputs": [],
   "source": [
    "from PyPDF2 import PdfReader, PdfWriter\n",
    "\n",
    "reader = PdfReader(\"example.pdf\")\n",
    "writer = PdfWriter()\n",
    "\n",
    "# Add all pages to the writer\n",
    "for page in reader.pages:\n",
    "    writer.add_page(page)\n",
    "\n",
    "# Add the metadata\n",
    "writer.add_metadata(\n",
    "    {\n",
    "        \"/Author\": \"Martin\",\n",
    "        \"/Producer\": \"Libre Writer\",\n",
    "    }\n",
    ")\n",
    "\n",
    "# Save the new PDF to a file\n",
    "with open(\"meta-pdf.pdf\", \"wb\") as f:\n",
    "    writer.write(f)"
   ]
  },
  {
   "cell_type": "code",
   "execution_count": null,
   "id": "04a23537",
   "metadata": {},
   "outputs": [],
   "source": []
  }
 ],
 "metadata": {
  "kernelspec": {
   "display_name": "Python 3 (ipykernel)",
   "language": "python",
   "name": "python3"
  },
  "language_info": {
   "codemirror_mode": {
    "name": "ipython",
    "version": 3
   },
   "file_extension": ".py",
   "mimetype": "text/x-python",
   "name": "python",
   "nbconvert_exporter": "python",
   "pygments_lexer": "ipython3",
   "version": "3.11.5"
  }
 },
 "nbformat": 4,
 "nbformat_minor": 5
}
