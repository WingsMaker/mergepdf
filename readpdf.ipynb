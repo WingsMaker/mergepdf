{
 "cells": [
  {
   "cell_type": "code",
   "execution_count": 1,
   "id": "008ddd24",
   "metadata": {},
   "outputs": [],
   "source": [
    "import PyPDF2"
   ]
  },
  {
   "cell_type": "code",
   "execution_count": 2,
   "id": "e474454f",
   "metadata": {},
   "outputs": [],
   "source": [
    "pdfFileObj = open('example2.pdf', 'rb')"
   ]
  },
  {
   "cell_type": "code",
   "execution_count": 3,
   "id": "5e4c2e41",
   "metadata": {},
   "outputs": [
    {
     "name": "stdout",
     "output_type": "stream",
     "text": [
      "2\n"
     ]
    }
   ],
   "source": [
    "# creating a pdf reader object\n",
    "pdfReader = PyPDF2.PdfReader(pdfFileObj)\n",
    "print(len(pdfReader.pages))"
   ]
  },
  {
   "cell_type": "code",
   "execution_count": 4,
   "id": "b58c658f",
   "metadata": {},
   "outputs": [
    {
     "name": "stdout",
     "output_type": "stream",
     "text": [
      "# importing the required modules\n",
      "import PyPDF2\n",
      "def PDFrotate(origFileName, newFileName, rotation):\n",
      " # creating a pdf File object of original pdf\n",
      " pdfFileObj = open(origFileName, 'rb')\n",
      " # creating a pdf Reader object\n",
      " pdfReader = PyPDF2.PdfReader(pdfFileObj)\n",
      " # creating a pdf writer object for new pdf\n",
      " pdfWriter = PyPDF2.PdfWriter()\n",
      " # rotating each page\n",
      " for page in range(len(pdfReader.pages)):\n",
      "  # creating rotated page object\n",
      "  pageObj = pdfReader.pages[page]\n",
      "  pageObj.rotate(rotation)\n",
      "  # adding rotated page object to pdf writer\n",
      "  pdfWriter.add_page(pageObj)\n",
      "  # new pdf file object\n",
      "  newFile = open(newFileName, 'wb')\n",
      "  # writing rotated pages to new file\n",
      "  pdfWriter.write(newFile)\n",
      " # closing the original pdf file object\n",
      " pdfFileObj.close()\n",
      " # closing the new pdf file object\n",
      " newFile.close()\n",
      "def main():\n",
      " # original pdf file name\n",
      " origFileName = 'example.pdf'\n",
      " # new pdf file name\n",
      " newFileName = 'rotated_example.pdf'\n",
      " # rotation angle\n",
      " rotation = 270\n",
      " # calling the PDFrotate function\n",
      " PDFrotate(origFileName, newFileName, rotation)\n"
     ]
    }
   ],
   "source": [
    "pageObj = pdfReader.pages[0]\n",
    "print(pageObj.extract_text())"
   ]
  },
  {
   "cell_type": "code",
   "execution_count": 5,
   "id": "c8ff890a",
   "metadata": {},
   "outputs": [],
   "source": [
    "pdfFileObj.close()"
   ]
  },
  {
   "cell_type": "code",
   "execution_count": null,
   "id": "665356de",
   "metadata": {},
   "outputs": [],
   "source": []
  }
 ],
 "metadata": {
  "kernelspec": {
   "display_name": "Python 3 (ipykernel)",
   "language": "python",
   "name": "python3"
  },
  "language_info": {
   "codemirror_mode": {
    "name": "ipython",
    "version": 3
   },
   "file_extension": ".py",
   "mimetype": "text/x-python",
   "name": "python",
   "nbconvert_exporter": "python",
   "pygments_lexer": "ipython3",
   "version": "3.11.5"
  }
 },
 "nbformat": 4,
 "nbformat_minor": 5
}
