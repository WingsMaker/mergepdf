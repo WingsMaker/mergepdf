{
 "cells": [
  {
   "cell_type": "code",
   "execution_count": 1,
   "id": "9ab19945",
   "metadata": {},
   "outputs": [],
   "source": [
    "# importing the required modules\n",
    "import PyPDF2\n"
   ]
  },
  {
   "cell_type": "code",
   "execution_count": 2,
   "id": "20bc0936",
   "metadata": {},
   "outputs": [],
   "source": [
    "def PDFrotate(origFileName, newFileName, rotation):\n",
    "    # creating a pdf File object of original pdf\n",
    "    pdfFileObj = open(origFileName, 'rb')\n",
    "    # creating a pdf Reader object\n",
    "    pdfReader = PyPDF2.PdfReader(pdfFileObj)\n",
    "    # creating a pdf writer object for new pdf\n",
    "    pdfWriter = PyPDF2.PdfWriter()\n",
    "    # rotating each page\n",
    "    for page in range(len(pdfReader.pages)):\n",
    "        # creating rotated page object\n",
    "        pageObj = pdfReader.pages[page]\n",
    "        pageObj.rotate(rotation)\n",
    "        # adding rotated page object to pdf writer\n",
    "    pdfWriter.add_page(pageObj)\n",
    "    # new pdf file object\n",
    "    newFile = open(newFileName, 'wb')\n",
    "    # writing rotated pages to new file\n",
    "    pdfWriter.write(newFile)\n",
    "    # closing the original pdf file object\n",
    "    pdfFileObj.close()\n",
    "    # closing the new pdf file object\n",
    "    newFile.close()\n"
   ]
  },
  {
   "cell_type": "code",
   "execution_count": 3,
   "id": "cdcda6bb",
   "metadata": {},
   "outputs": [],
   "source": [
    "def main():\n",
    "    # original pdf file name\n",
    "    origFileName = 'example.pdf'\n",
    "    # new pdf file name\n",
    "    newFileName = 'rotated_example.pdf'\n",
    "    # rotation angle\n",
    "    rotation = 90\n",
    "    # calling the PDFrotate function\n",
    "    PDFrotate(origFileName, newFileName, rotation)\n"
   ]
  },
  {
   "cell_type": "code",
   "execution_count": 4,
   "id": "a76162fc",
   "metadata": {},
   "outputs": [
    {
     "name": "stdout",
     "output_type": "stream",
     "text": [
      "rotated pdf by 90 degree\n"
     ]
    }
   ],
   "source": [
    "if __name__ == \"__main__\":\n",
    "    # calling the main function\n",
    "    main()\n",
    "    print(\"rotated pdf by 90 degree\")"
   ]
  }
 ],
 "metadata": {
  "kernelspec": {
   "display_name": "Python 3 (ipykernel)",
   "language": "python",
   "name": "python3"
  },
  "language_info": {
   "codemirror_mode": {
    "name": "ipython",
    "version": 3
   },
   "file_extension": ".py",
   "mimetype": "text/x-python",
   "name": "python",
   "nbconvert_exporter": "python",
   "pygments_lexer": "ipython3",
   "version": "3.11.5"
  }
 },
 "nbformat": 4,
 "nbformat_minor": 5
}
